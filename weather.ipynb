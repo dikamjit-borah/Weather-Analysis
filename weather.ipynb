{
 "cells": [
  {
   "cell_type": "code",
   "execution_count": 2,
   "metadata": {},
   "outputs": [],
   "source": [
    "import pandas as pd\n",
    "import matplotlib.pyplot as plt\n",
    "daFile = pd.read_csv(\"weather.csv\")   #read the csv file\n",
    "\n"
   ]
  },
  {
   "cell_type": "markdown",
   "metadata": {},
   "source": [
    "# Task 1: Total amount of precipitation "
   ]
  },
  {
   "cell_type": "code",
   "execution_count": 6,
   "metadata": {},
   "outputs": [
    {
     "name": "stdout",
     "output_type": "stream",
     "text": [
      "The total precipitation of Seattle is  : 4426.000000000008\n",
      "The total precipitation of New York is : 4178.6000000000095\n"
     ]
    }
   ],
   "source": [
    "groupByLoc = daFile.groupby('location') #create a new dataframe grouped by location\n",
    "\n",
    "seattle= groupByLoc.get_group('Seattle') #create a new dataframe with the Seattle group\n",
    "newyork= groupByLoc.get_group('New York') #create a new dataframe with the New York group\n",
    "precipitation_sea = sum(seattle['precipitation']) #get sum of the coloumn precipitation\n",
    "precipitation_ny  = sum(newyork['precipitation'])\n",
    "\n",
    "print(\"The total precipitation of Seattle is  : \" +str(precipitation_sea))\n",
    "print(\"The total precipitation of New York is : \" +str(precipitation_ny))\n"
   ]
  },
  {
   "cell_type": "markdown",
   "metadata": {},
   "source": [
    "# Task 2: Average number of days of sun"
   ]
  },
  {
   "cell_type": "code",
   "execution_count": 9,
   "metadata": {},
   "outputs": [
    {
     "name": "stdout",
     "output_type": "stream",
     "text": [
      "Average number of days per year in Seattle  : 4.092436974789916\n",
      "Average number of days per year in New York : 3.04375\n"
     ]
    }
   ],
   "source": [
    "sunny = daFile[daFile['weather'] == 'sun']\n",
    "groupByLoc = sunny.groupby('location')\n",
    "\n",
    "seattle= groupByLoc.get_group('Seattle') \n",
    "newyork= groupByLoc.get_group('New York') \n",
    "\n",
    "avg_sun_seattle = (daFile['weather'].count()/seattle['weather'].count()) #total rows/rows having sun\n",
    "avg_sun_ny = (daFile['weather'].count()/newyork['weather'].count())\n",
    "print(\"Average number of days per year in Seattle  : \" + str(avg_sun_seattle))\n",
    "print(\"Average number of days per year in New York : \" + str(avg_sun_ny))\n",
    "\n"
   ]
  },
  {
   "cell_type": "markdown",
   "metadata": {},
   "source": [
    "# Task 3: Highest maximum temperature"
   ]
  },
  {
   "cell_type": "code",
   "execution_count": 43,
   "metadata": {},
   "outputs": [
    {
     "name": "stdout",
     "output_type": "stream",
     "text": [
      "37.8\n",
      "The highest temperature in the dataset is 37.8 which occured on July 18, 2013 at New York\n"
     ]
    }
   ],
   "source": [
    "print(daFile['temp_max'].max())  #get the maximum temperature\n",
    "\n",
    "#display the details of the maximum temparature namely, city and date\n",
    "\n",
    "print(\"The highest temperature in the dataset is \" + \n",
    "      str(daFile['temp_max'].max()) + \" which occured on \" + \n",
    "      str(daFile.iloc[daFile['temp_max'].idxmax(), [0,1]][1]) + \" at \" + \n",
    "      str(daFile.iloc[daFile['temp_max'].idxmax(), [0,1]][0]))\n"
   ]
  },
  {
   "cell_type": "markdown",
   "metadata": {},
   "source": [
    "# Task 4: Average windspeed for each month"
   ]
  },
  {
   "cell_type": "code",
   "execution_count": 13,
   "metadata": {},
   "outputs": [
    {
     "name": "stdout",
     "output_type": "stream",
     "text": [
      "Average windpeed for each month in Seattle  : \n",
      "month_num\n",
      "1     3.138710\n",
      "2     3.786726\n",
      "3     3.579839\n",
      "4     3.524167\n",
      "5     3.120161\n",
      "6     3.130833\n",
      "7     2.911290\n",
      "8     2.750806\n",
      "9     2.963333\n",
      "10    2.939516\n",
      "11    3.482500\n",
      "12    3.618548\n",
      "Name: wind, dtype: float64\n",
      "Average windpeed for each month in New York : \n",
      "month_num\n",
      "1     5.787097\n",
      "2     5.594690\n",
      "3     5.637097\n",
      "4     5.665833\n",
      "5     4.419355\n",
      "6     4.548333\n",
      "7     4.369355\n",
      "8     4.116129\n",
      "9     4.265833\n",
      "10    5.035484\n",
      "11    5.171667\n",
      "12    4.972581\n",
      "Name: wind, dtype: float64\n"
     ]
    },
    {
     "data": {
      "text/plain": [
       "Text(0.5, 0, 'MONTH')"
      ]
     },
     "execution_count": 13,
     "metadata": {},
     "output_type": "execute_result"
    },
    {
     "data": {
      "image/png": "[encoded data removed]",
      "text/plain": [
       "<Figure size 432x288 with 1 Axes>"
      ]
     },
     "metadata": {
      "needs_background": "light"
     },
     "output_type": "display_data"
    }
   ],
   "source": [
    "groupByLoc = daFile.groupby('location')\n",
    "\n",
    "seattle= groupByLoc.get_group('Seattle') \n",
    "newyork= groupByLoc.get_group('New York') \n",
    "#print(daFile.groupby('month_num')['wind'].mean)\n",
    "seattle_byMonth = seattle.groupby('month_num')\n",
    "ny_byMonth = newyork.groupby('month_num')\n",
    "print(\"Average windpeed for each month in Seattle  : \")\n",
    "print((seattle_byMonth['wind'].mean()))\n",
    "print(\"Average windpeed for each month in New York : \")\n",
    "print((ny_byMonth['wind'].mean()))\n",
    "\n",
    "\n",
    "plt.plot( seattle_byMonth['wind'].mean(), marker='o')\n",
    "plt.plot( ny_byMonth['wind'].mean(), marker='o')\n",
    "plt.ylabel('WIND SPEED')\n",
    "plt.xlabel('MONTH')\n"
   ]
  },
  {
   "cell_type": "markdown",
   "metadata": {},
   "source": [
    "# Task 5: 5 Days with most snowfall"
   ]
  },
  {
   "cell_type": "code",
   "execution_count": 14,
   "metadata": {},
   "outputs": [
    {
     "data": {
      "text/plain": [
       "<matplotlib.axes._subplots.AxesSubplot at 0x1ee3aaa8400>"
      ]
     },
     "execution_count": 14,
     "metadata": {},
     "output_type": "execute_result"
    },
    {
     "data": {
      "image/png": "[encoded data removed]",
      "text/plain": [
       "<Figure size 432x288 with 1 Axes>"
      ]
     },
     "metadata": {
      "needs_background": "light"
     },
     "output_type": "display_data"
    },
    {
     "data": {
      "image/png": "[encoded data removed]",
      "text/plain": [
       "<Figure size 432x288 with 1 Axes>"
      ]
     },
     "metadata": {
      "needs_background": "light"
     },
     "output_type": "display_data"
    }
   ],
   "source": [
    "groupByLoc = daFile.groupby('location')\n",
    "\n",
    "seattle= groupByLoc.get_group('Seattle') \n",
    "newyork= groupByLoc.get_group('New York') \n",
    "\n",
    "seattle_bySnow = seattle[seattle['weather'] == 'snow'].sort_values(by=['precipitation'], ascending=False).head()\n",
    "ny_bySnow = newyork[newyork['weather'] == 'snow'].sort_values(by=['precipitation'], ascending=False).head()\n",
    "\n",
    "\n",
    "#seattle.plot.bar()\n",
    "\n",
    "seattle_bySnow.plot.bar(x='date', y='precipitation')\n",
    "ny_bySnow.plot.bar(x='date', y='precipitation')"
   ]
  },
  {
   "cell_type": "code",
   "execution_count": null,
   "metadata": {},
   "outputs": [],
   "source": []
  }
 ],
 "metadata": {
  "kernelspec": {
   "display_name": "Python 3",
   "language": "python",
   "name": "python3"
  },
  "language_info": {
   "codemirror_mode": {
    "name": "ipython",
    "version": 3
   },
   "file_extension": ".py",
   "mimetype": "text/x-python",
   "name": "python",
   "nbconvert_exporter": "python",
   "pygments_lexer": "ipython3",
   "version": "3.7.1"
  }
 },
 "nbformat": 4,
 "nbformat_minor": 2
}
